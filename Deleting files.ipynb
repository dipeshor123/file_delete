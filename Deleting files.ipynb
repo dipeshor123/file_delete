{
 "cells": [
  {
   "cell_type": "code",
   "execution_count": 1,
   "id": "a406647c-4df5-430f-8964-72960b28889d",
   "metadata": {},
   "outputs": [],
   "source": [
    "import os"
   ]
  },
  {
   "cell_type": "code",
   "execution_count": 2,
   "id": "c0032b60-d8c5-4083-b43f-75173fc87dec",
   "metadata": {},
   "outputs": [],
   "source": [
    "path=r'G:\\My Drive'"
   ]
  },
  {
   "cell_type": "code",
   "execution_count": 4,
   "id": "98ea8f31-abfd-49cd-8419-885f5ba90aab",
   "metadata": {},
   "outputs": [],
   "source": [
    "\n",
    "# This code snippet recursively traverses a directory tree using os.walk()\n",
    "# and removes all files and directories with the '.hkgt' extension.\n",
    "# It prints the name of each file before deleting it.\n",
    "# This can be useful for cleaning up specific types of files or directories in a directory tree.\n",
    "\n",
    "for root, dirs, files in os.walk(path):\n",
    "    \n",
    "    for file in files:\n",
    "        if file.endswith('.hkgt'):\n",
    "            print(file)\n",
    "            file_path = os.path.join(root, file)\n",
    "            os.remove(file_path)\n",
    "    for dir in dirs:\n",
    "        if dir.endswith('.hkgt'):\n",
    "            dir_path = os.path.join(root, dir)\n",
    "            os.rmdir(dir_path)\n"
   ]
  },
  {
   "cell_type": "code",
   "execution_count": null,
   "id": "3c0a1326-ecf5-457d-8d1d-2541364f3afb",
   "metadata": {},
   "outputs": [],
   "source": []
  }
 ],
 "metadata": {
  "kernelspec": {
   "display_name": "Python 3 (ipykernel)",
   "language": "python",
   "name": "python3"
  },
  "language_info": {
   "codemirror_mode": {
    "name": "ipython",
    "version": 3
   },
   "file_extension": ".py",
   "mimetype": "text/x-python",
   "name": "python",
   "nbconvert_exporter": "python",
   "pygments_lexer": "ipython3",
   "version": "3.8.16"
  }
 },
 "nbformat": 4,
 "nbformat_minor": 5
}
